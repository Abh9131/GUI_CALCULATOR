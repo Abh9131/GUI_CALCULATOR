{
 "cells": [
  {
   "cell_type": "markdown",
   "id": "d6b2c8fb-e2d0-49f9-9936-5f2de80f22e9",
   "metadata": {},
   "source": [
    "#GUI MINI CALCULATOR 0F TWO NUMBER BY KEYBOARD AND ANSWER ON SCREEN"
   ]
  },
  {
   "cell_type": "markdown",
   "id": "b12f2aea-f421-4a35-947a-deb5e731c9fa",
   "metadata": {},
   "source": [
    "#DESKTOP BASED"
   ]
  },
  {
   "cell_type": "code",
   "execution_count": 1,
   "id": "824ec4a2-c938-4771-97ac-633430fe86d3",
   "metadata": {
    "tags": []
   },
   "outputs": [],
   "source": [
    "from tkinter import*"
   ]
  },
  {
   "cell_type": "code",
   "execution_count": 2,
   "id": "5521bac0-d3ff-4dd2-b4aa-ee15b198f420",
   "metadata": {
    "tags": []
   },
   "outputs": [],
   "source": [
    "#all properties of tkinter is imported"
   ]
  },
  {
   "cell_type": "code",
   "execution_count": null,
   "id": "35ef4d5a-994b-4c6c-a69b-d05660a46d3b",
   "metadata": {
    "tags": []
   },
   "outputs": [],
   "source": [
    "win=Tk()\n",
    "win.geometry(\"800x600\") #resizable\n",
    "win.configure(bg=\"lightblue\")\n",
    "\n",
    "lc=Label(win,text=\"MINI CALCULATOR FOR TWO NUMBERS\",font=('arial',15),bd=5,fg='black',bg='lightblue')\n",
    "lc .place(relx=0.3,rely=0.1)\n",
    "\n",
    "def add():\n",
    "    a=int(e1.get())\n",
    "    b=int(e2.get())\n",
    "    ba=Button(win,text=f\"Result={a+b}\",font=('arial',15),fg='blue',bg='yellow')\n",
    "    ba.place(relx=0.5,rely=0.7)\n",
    "    \n",
    "def mul():\n",
    "    a=int(e1.get())\n",
    "    b=int(e2.get())\n",
    "    ba=Button(win,text=f\"Result={a*b}\",font=('arial',15),fg='blue',bg='yellow')\n",
    "    ba.place(relx=0.5,rely=0.7)\n",
    "    \n",
    "def sub():\n",
    "    a=int(e1.get())\n",
    "    b=int(e2.get())\n",
    "    ba=Button(win,text=f\"Result={a-b}\",font=('arial',15),fg='blue',bg='yellow')\n",
    "    ba.place(relx=0.5,rely=0.7)\n",
    "    \n",
    "def div():\n",
    "    a=int(e1.get())\n",
    "    b=int(e2.get())\n",
    "    ba=Button(win,text=f\"Result={a/b}\",font=('arial',15),fg='blue',bg='yellow')\n",
    "    ba.place(relx=0.5,rely=0.7)\n",
    "    \n",
    "\n",
    "l1=Label(win,text=\"Enter First Number\",font=('arial',15),fg='blue',bg='yellow')\n",
    "l1.place(relx=0.2,rely=0.2)\n",
    "e1=Entry(win,font=('arial',15),bd=5,fg='blue',bg='yellow')\n",
    "e1.place(relx=0.5,rely=0.2)\n",
    "\n",
    "l2=Label(win,text=\"Enter Second Number\",font=('arial',15),fg='blue',bg='yellow')\n",
    "l2.place(relx=0.2,rely=0.3)\n",
    "e2=Entry(win,font=('arial',15),bd=5,fg='blue',bg='yellow')\n",
    "e2.place(relx=0.5,rely=0.3)\n",
    "\n",
    "b1=Button(win,text='Addition',font=('arial',12),bd=5,fg='blue',bg='yellow',width='10',command=add)\n",
    "b1.place(relx=0.2,rely=0.5)\n",
    "\n",
    "b2=Button(win,text='Subtraction',font=('arial',12),bd=5,fg='blue',bg='yellow',width='10',command=sub)\n",
    "b2.place(relx=0.4,rely=0.5)\n",
    "\n",
    "b3=Button(win,text='Multiplicatiom',font=('arial',12),bd=5,fg='blue',bg='yellow',width='10',command=mul)\n",
    "b3.place(relx=0.6,rely=0.5)\n",
    "\n",
    "b4=Button(win,text='Division',font=('arial',12),bd=5,fg='blue',bg='yellow',width='10',command=div)\n",
    "b4.place(relx=0.8,rely=0.5)\n",
    "win.mainloop()"
   ]
  },
  {
   "cell_type": "markdown",
   "id": "9c276008-fdb6-4eb7-9219-22c70091fbdf",
   "metadata": {},
   "source": []
  }
 ],
 "metadata": {
  "kernelspec": {
   "display_name": "Python 3 (ipykernel)",
   "language": "python",
   "name": "python3"
  },
  "language_info": {
   "codemirror_mode": {
    "name": "ipython",
    "version": 3
   },
   "file_extension": ".py",
   "mimetype": "text/x-python",
   "name": "python",
   "nbconvert_exporter": "python",
   "pygments_lexer": "ipython3",
   "version": "3.11.4"
  }
 },
 "nbformat": 4,
 "nbformat_minor": 5
}
